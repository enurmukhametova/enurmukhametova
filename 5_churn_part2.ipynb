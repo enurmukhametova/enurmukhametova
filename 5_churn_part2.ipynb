{
 "cells": [
  {
   "cell_type": "markdown",
   "id": "e31a5ec9",
   "metadata": {},
   "source": [
    "## 3.2 Второй этап обучения\n",
    "\n",
    "На втором этапе обучения предскажем вероятность оттока клиентов по предсказанному времени до последней транзакции."
   ]
  },
  {
   "cell_type": "code",
   "execution_count": 1,
   "id": "25c98fe8",
   "metadata": {},
   "outputs": [],
   "source": [
    "import warnings\n",
    "\n",
    "import pandas as pd\n",
    "import numpy as np\n",
    "import matplotlib.pyplot as plt\n",
    "\n",
    "import catboost as cat\n",
    "\n",
    "from catboost import CatBoostRegressor, CatBoostClassifier\n",
    "from sklearn.model_selection import train_test_split\n",
    "from sklearn.metrics import (\n",
    "    mean_absolute_error,\n",
    "    mean_absolute_percentage_error,\n",
    "    mean_squared_error,\n",
    "    roc_auc_score,\n",
    "    accuracy_score,\n",
    "    f1_score,\n",
    "    recall_score, \n",
    "    precision_score,\n",
    "    confusion_matrix,\n",
    "    ConfusionMatrixDisplay,\n",
    "    roc_curve, \n",
    "    auc\n",
    ")\n",
    "\n",
    "warnings.filterwarnings(\"ignore\")\n",
    "pd.set_option('display.float_format', '{:,.2f}'.format)\n",
    "pd.set_option('display.max_columns', None)\n",
    "#pd.set_option('display.max_rows', None)\n",
    "pd.set_option('display.max_colwidth', None)\n",
    "\n",
    "RANDOM = 42"
   ]
  },
  {
   "cell_type": "code",
   "execution_count": 2,
   "id": "d4ff829e",
   "metadata": {},
   "outputs": [],
   "source": [
    "features = pd.read_csv('/Users/Elena/Desktop/Задание/Фичи/features_4.csv', index_col = 0)\n",
    "train = pd.read_csv('/Users/Elena/Desktop/Задание/Задание/train.csv')\n",
    "clients = pd.read_csv('/Users/Elena/Desktop/Задание/Задание/clients.csv')\n",
    "test = pd.read_csv('/Users/Elena/Desktop/Задание/Задание/sample_submit_naive.csv')\n",
    "time_predict = pd.read_csv('/Users/Elena/Desktop/Задание/test_time_predict.csv', index_col = 0)"
   ]
  },
  {
   "cell_type": "code",
   "execution_count": 3,
   "id": "d2e70781",
   "metadata": {},
   "outputs": [],
   "source": [
    "# Объединяем таблицу features с таблицей train по столбцу 'user_id', используя внутреннее соединение\n",
    "train_features = features.merge(train, on = 'user_id', how = 'inner')\n",
    "\n",
    "# Объединяем полученную таблицу train_features с таблицей clients по столбцу 'user_id', используя левое соединение\n",
    "train_features = train_features.merge(clients, on = 'user_id', how = 'left')"
   ]
  },
  {
   "cell_type": "code",
   "execution_count": 4,
   "id": "28b8bdc3",
   "metadata": {},
   "outputs": [],
   "source": [
    "# Заполняем пропуски в столбце 'employee_count_nm' значением 'empty'\n",
    "train_features['employee_count_nm'] = train_features['employee_count_nm'].fillna('empty')"
   ]
  },
  {
   "cell_type": "code",
   "execution_count": 5,
   "id": "a3a7f997",
   "metadata": {},
   "outputs": [],
   "source": [
    "# Преобразуем столбцы 'report', 'employee_count_nm', 'employee_category' и 'bankemplstatus' \n",
    "# в категориальный тип данных\n",
    "train_features['report'] = train_features['report'].astype('category')\n",
    "train_features['employee_count_nm'] = train_features['employee_count_nm'].astype('category')\n",
    "train_features['bankemplstatus'] = train_features['bankemplstatus'].astype('category')"
   ]
  },
  {
   "cell_type": "code",
   "execution_count": 6,
   "id": "90bd7e28",
   "metadata": {},
   "outputs": [],
   "source": [
    "# Удаляем дубликаты из DataFrame train_features, оставляя только последние вхождения\n",
    "train_features = train_features.drop_duplicates(keep='last')"
   ]
  },
  {
   "cell_type": "code",
   "execution_count": 7,
   "id": "c668b8e5",
   "metadata": {},
   "outputs": [],
   "source": [
    "# Создаем список столбцов для обучения, исключая 'user_id', 'target' и 'mcc_code'\n",
    "train_cols = [x for x in train_features.columns if x not in ['user_id', 'target', 'mcc_code']]\n",
    "\n",
    "# Определяем категориальные столбцы, которые будут использоваться в модели\n",
    "cat_cols = ['report', 'employee_count_nm', 'bankemplstatus']\n",
    "\n",
    "# Задаем переменную target, указывая на столбец с целевой переменной\n",
    "target = 'target'"
   ]
  },
  {
   "cell_type": "code",
   "execution_count": 8,
   "id": "d2a21926",
   "metadata": {},
   "outputs": [],
   "source": [
    "# Разделяем данные на обучающую и тестовую выборки\n",
    "X_train, X_test, y_train, y_test = train_test_split(\n",
    "    train_features[train_cols],  # Выбираем признаки для обучения\n",
    "    train_features[target],       # Выбираем целевую переменную\n",
    "    test_size=0.25,              # Указываем размер тестовой выборки (25% от общего объема)\n",
    "    random_state=RANDOM,         # Устанавливаем случайное состояние для воспроизводимости результатов\n",
    "    stratify=train_features[target]  # Сохраняем пропорции целевой переменной в обеих выборках\n",
    ")"
   ]
  },
  {
   "cell_type": "code",
   "execution_count": 9,
   "id": "4d62d3e2",
   "metadata": {},
   "outputs": [],
   "source": [
    "# Инициализация модели CatBoostClassifier\n",
    "model = CatBoostClassifier(\n",
    "    random_state=RANDOM,        # Устанавливаем случайное состояние для воспроизводимости результатов\n",
    "    depth=10,                   # Задаем максимальную глубину деревьев (10)\n",
    "    eval_metric=\"AUC\",          # Указываем метрику для оценки качества модели (площадь под кривой ROC)\n",
    "    cat_features=cat_cols,      # Указываем список категориальных признаков\n",
    "    l2_leaf_reg=5               # Устанавливаем коэффициент L2 регуляризации для уменьшения переобучения\n",
    ")"
   ]
  },
  {
   "cell_type": "code",
   "execution_count": 10,
   "id": "cd8caf08",
   "metadata": {},
   "outputs": [
    {
     "data": {
      "text/plain": [
       "<catboost.core.CatBoostClassifier at 0x13fc88820>"
      ]
     },
     "execution_count": 10,
     "metadata": {},
     "output_type": "execute_result"
    }
   ],
   "source": [
    "# Обучение модели на тренировочных данных\n",
    "model.fit(\n",
    "    X_train,                   # Тренировочные признаки\n",
    "    y_train,                   # Тренировочные целевые значения\n",
    "    eval_set=(X_test, y_test), # Набор для оценки модели (тестовые данные)\n",
    "    early_stopping_rounds=100, # Остановка обучения, если в течение 100 итераций не наблюдается улучшения\n",
    "    cat_features=cat_cols,     # Указываем категориальные признаки\n",
    "    verbose=False              # Отключаем вывод информации о процессе обучения\n",
    ")"
   ]
  },
  {
   "cell_type": "code",
   "execution_count": 11,
   "id": "82980d86",
   "metadata": {},
   "outputs": [],
   "source": [
    "# Получаем вероятности положительного класса для тестовых данных\n",
    "test_predict = model.predict_proba(X_test)[:, 1]\n",
    "\n",
    "# Вычисляем AUC (площадь под кривой ROC) для предсказанных вероятностей\n",
    "auc_test = roc_auc_score(y_test, test_predict)\n",
    "\n",
    "# Вычисление значений для кривой ROC\n",
    "fpr, tpr, thresholds = roc_curve(y_test, test_predict)\n",
    "roc_auc = auc(fpr, tpr)"
   ]
  },
  {
   "cell_type": "code",
   "execution_count": 12,
   "id": "c359ae30",
   "metadata": {},
   "outputs": [
    {
     "data": {
      "text/plain": [
       "0.9050300029993923"
      ]
     },
     "execution_count": 12,
     "metadata": {},
     "output_type": "execute_result"
    }
   ],
   "source": [
    "auc_test"
   ]
  },
  {
   "cell_type": "code",
   "execution_count": 13,
   "id": "ef1746fa",
   "metadata": {},
   "outputs": [
    {
     "data": {
      "image/png": "[encoded data removed]",
      "text/plain": [
       "<Figure size 640x480 with 1 Axes>"
      ]
     },
     "metadata": {},
     "output_type": "display_data"
    }
   ],
   "source": [
    "# Построение графика кривой ROC\n",
    "plt.plot(fpr, tpr, label='ROC curve (area = %0.2f)' % roc_auc)\n",
    "plt.plot([0, 1], [0, 1], 'k--')\n",
    "plt.xlim([0.0, 1.0])\n",
    "plt.ylim([0.0, 1.05])\n",
    "plt.xlabel('False Positive Rate')\n",
    "plt.ylabel('True Positive Rate')\n",
    "plt.title('Receiver Operating Characteristic')\n",
    "plt.legend(loc=\"lower right\")\n",
    "plt.show()"
   ]
  },
  {
   "cell_type": "markdown",
   "id": "6c4eb608",
   "metadata": {},
   "source": [
    "**Построение матрицы ошибок и ее анализ**"
   ]
  },
  {
   "cell_type": "code",
   "execution_count": 14,
   "id": "505d29a0",
   "metadata": {},
   "outputs": [
    {
     "name": "stdout",
     "output_type": "stream",
     "text": [
      "Precision: 0.6796657381615598\n",
      "Recall: 0.3604135893648449\n",
      "F1-score: 0.4710424710424711\n"
     ]
    }
   ],
   "source": [
    "# Предположим, что test_predict содержит вероятности\n",
    "# Преобразуем вероятности в бинарные метки\n",
    "threshold = 0.5\n",
    "binary_predictions = (test_predict >= threshold).astype(int)\n",
    "\n",
    "# Вычисление precision\n",
    "precision = precision_score(y_test, binary_predictions, pos_label=1)\n",
    "\n",
    "# Вычисление recall\n",
    "recall = recall_score(y_test, binary_predictions, pos_label=1)\n",
    "\n",
    "# Вычисление F1-меры\n",
    "f1 = f1_score(y_test, binary_predictions, pos_label=1)\n",
    "\n",
    "# Вывод результатов\n",
    "print(\"Precision:\", precision)\n",
    "print(\"Recall:\", recall)\n",
    "print(\"F1-score:\", f1)"
   ]
  },
  {
   "cell_type": "code",
   "execution_count": 15,
   "id": "2b361e9d",
   "metadata": {},
   "outputs": [],
   "source": [
    "# Объединяем датафрейм features с 'test' по 'user_id', оставляя только совпадающие записи,\n",
    "# чтобы оставить только тех user_id, которые нужны для предсказания\n",
    "test_features = features.merge(test[['user_id']], on='user_id', how='inner')\n",
    "\n",
    "# Объединяем полученные тестовые признаки с данными о клиентах, добавляя информацию о клиентах\n",
    "test_features = test_features.merge(clients, on='user_id', how='left')\n",
    "\n",
    "# Объединяем полученные тестовые признаки с предсказанным временем, добавляя соответствующую информацию\n",
    "test_features = test_features.merge(time_predict, on='user_id', how='left')"
   ]
  },
  {
   "cell_type": "code",
   "execution_count": 16,
   "id": "6029b42c",
   "metadata": {},
   "outputs": [],
   "source": [
    "# Заполняем пропуски в столбце 'employee_count_nm' значением 'empty'\n",
    "test_features['employee_count_nm'] = test_features['employee_count_nm'].fillna('empty')\n",
    "\n",
    "# Преобразуем указанные категориальные столбцы в тип 'category'\n",
    "test_features[cat_cols] = test_features[cat_cols].astype('category')"
   ]
  },
  {
   "cell_type": "code",
   "execution_count": 17,
   "id": "c2d250d0",
   "metadata": {},
   "outputs": [],
   "source": [
    "# Создаем новый DataFrame 'submit', содержащий только столбец 'user_id' из 'test_features'\n",
    "submit = test_features[['user_id']]\n",
    "\n",
    "# Предсказываем вероятности для положительного класса с использованием обученной модели\n",
    "# 'predict_proba' возвращает вероятности для обоих классов, поэтому выбираем второй столбец ([:, 1])\n",
    "submit['predict'] = model.predict_proba(test_features[train_cols])[:, 1]"
   ]
  },
  {
   "cell_type": "code",
   "execution_count": 18,
   "id": "cd55fcf5",
   "metadata": {},
   "outputs": [],
   "source": [
    "# Сохраняем DataFrame 'submit' в CSV файл 'submit_2.csv', без индексов\n",
    "submit.to_csv('submit_2.csv', index=0)"
   ]
  },
  {
   "cell_type": "code",
   "execution_count": null,
   "id": "6a243d0e",
   "metadata": {},
   "outputs": [],
   "source": []
  },
  {
   "cell_type": "code",
   "execution_count": null,
   "id": "72bb6886",
   "metadata": {},
   "outputs": [],
   "source": []
  },
  {
   "cell_type": "code",
   "execution_count": null,
   "id": "c72e6cc7",
   "metadata": {},
   "outputs": [],
   "source": []
  }
 ],
 "metadata": {
  "kernelspec": {
   "display_name": "Python 3 (ipykernel)",
   "language": "python",
   "name": "python3"
  },
  "language_info": {
   "codemirror_mode": {
    "name": "ipython",
    "version": 3
   },
   "file_extension": ".py",
   "mimetype": "text/x-python",
   "name": "python",
   "nbconvert_exporter": "python",
   "pygments_lexer": "ipython3",
   "version": "3.9.16"
  }
 },
 "nbformat": 4,
 "nbformat_minor": 5
}
